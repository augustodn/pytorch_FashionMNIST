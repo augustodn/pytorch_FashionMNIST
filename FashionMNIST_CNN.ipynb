{
 "cells": [
  {
   "cell_type": "markdown",
   "metadata": {},
   "source": [
    "## Libraries import"
   ]
  },
  {
   "cell_type": "code",
   "execution_count": 1,
   "metadata": {},
   "outputs": [],
   "source": [
    "import torch \n",
    "import torch.nn as nn\n",
    "import torchvision.transforms as transforms\n",
    "import torchvision.datasets as dsets\n",
    "import matplotlib.pylab as plt\n",
    "import numpy as np"
   ]
  },
  {
   "cell_type": "markdown",
   "metadata": {},
   "source": [
    "## Helper Functions\n",
    "\n",
    "We will define a helper function, ```show_data``` to plot the images individually from the Fashion Dataset. The raw images from the dataset which can also be resized, are 28px height and 28px wide."
   ]
  },
  {
   "cell_type": "code",
   "execution_count": 2,
   "metadata": {},
   "outputs": [],
   "source": [
    "IMAGE_SIZE = 28\n",
    "\n",
    "def show_data(data_sample):\n",
    "    plt.imshow(data_sample[0].numpy().reshape(IMAGE_SIZE, IMAGE_SIZE), cmap='gray')\n",
    "    plt.title('y = '+ str(data_sample[1]))"
   ]
  },
  {
   "cell_type": "markdown",
   "metadata": {},
   "source": [
    "## Dataset Handling\n",
    "\n",
    "During this project we'll be working with the MNIST Fashion dataset, a well know dataset which happens to come together as a toy example within the pytorch library.\n",
    "\n",
    "The Fashion-MNIST dataset is proposed as a more challenging replacement dataset for the MNIST dataset. It is a dataset comprised of 60,000 small square 28×28 pixel grayscale images of items of 10 types of clothing, such as shoes, t-shirts, dresses, and more.\n",
    "\n",
    "We're not going to rescale the images, since we want to increase the prediction performance at the cost of a higher training time. Hence, the only transformation taking place will be the one needed to handle images as Tensor objects (matrices)."
   ]
  },
  {
   "cell_type": "code",
   "execution_count": 3,
   "metadata": {},
   "outputs": [],
   "source": [
    "# transform = transforms.Compose([transforms.Resize((IMAGE_SIZE, IMAGE_SIZE)), transforms.ToTensor()])\n",
    "transform = transforms.Compose([transforms.ToTensor()])"
   ]
  },
  {
   "cell_type": "code",
   "execution_count": 4,
   "metadata": {},
   "outputs": [],
   "source": [
    "train_dataset = dsets.FashionMNIST(root='./data/', train=True, download=True, transform=transform)\n",
    "validation_dataset = dsets.FashionMNIST(root='./data/', train=False, download=True, transform=transform)"
   ]
  },
  {
   "cell_type": "code",
   "execution_count": 5,
   "metadata": {},
   "outputs": [
    {
     "data": {
      "image/png": "[encoded data removed]",
      "text/plain": [
       "<Figure size 432x288 with 1 Axes>"
      ]
     },
     "metadata": {
      "needs_background": "light"
     },
     "output_type": "display_data"
    }
   ],
   "source": [
    "show_data(train_dataset[0])"
   ]
  },
  {
   "cell_type": "markdown",
   "metadata": {},
   "source": [
    "## Building the Model\n",
    "\n",
    "It's known that Convolutional Neural Networks (CNN) are one of the most used architectures for Computer Vision. This kind of architectures can achieve impressive results generally in the range of 90% accuracy. Not only that, the models tend to generalize well.\n",
    "\n",
    "A CNN is composed of several steps consisting of convolutions and activations. Several layers can be piped together to enhace the feature extraction (yeap we feed the model with raw data). Generally, we use convolutions as a way to reduce the amount of information while keeping the features intact. This helps us reduce the amount of inputs (and neurons) in the last layer. Here is a good resource in case you want a deeper understanding [CNN Cheatsheet CS 230](https://stanford.edu/~shervine/teaching/cs-230/cheatsheet-convolutional-neural-networks) in this topics. For this particular case we'll use a convolution with a kernel of size 5 and a Max Pool activation with size 2.\n",
    "\n",
    "If you're new to convolutions, here's also a good video which shows in the first minutes how the convolution takes place. It's a good animation which help us visualize the concept [How convolution works](https://www.youtube.com/watch?v=8rrHTtUzyZA). Furthermore, in case you want to know more about Max Pool activations, here's another video with explanations [Max Pooling](https://www.youtube.com/watch?v=ZjM_XQa5s6s). Important to say is that the convolution kernel (or filter) weights (parameters) will be learned during the training, in order to optimize the model.\n",
    "\n",
    "One of the hardest parts of designing the model is determining the inputs of the last linear layer. The last layer helps us determine the predicted classes or labels, in this case the different clothing categories included in the dataset.\n",
    "\n",
    "<img src=\"img/2layersCNN.png\" alt=\"2 Layer CNN\" width=\"800\"/>\n",
    "\n",
    "We'll create a 2-layer CNN with a Max Pool activation function piped to the convolution result. Since we don´t want to loose the images edges, we'll add padding to the images before the convolution takes place. During the whole project we'll be working with square matrices where m=n (rows are equal to columns). We will refer to the matrix input dimension as ```I```, where in this particular case ```I = 28``` for the raw images. In the same way, the dimension of the output matrix will be represented with letter ```O```\n",
    "\n",
    "### Convolution parameters\n",
    "\n",
    "- ```kernel = 5```\n",
    "- ```padding = 2```\n",
    "- ```stride = 1```\n",
    "- ```dilation = 1```\n",
    "\n",
    "Given this parameters, the new matrix dimension after the convolution process is:\n",
    "\n",
    "```O = I + 2 * p - k + 1```\n",
    "\n",
    "```O = I```\n",
    "\n",
    "where:\n",
    "- p: padding\n",
    "- k: kernel size\n",
    "- I: Input matrix size\n",
    "- O: Output matrix size\n",
    "\n",
    "### MaxPool Activation parameters\n",
    "For the MaxPool activation, stride is by default the size of the kernel. Parameters are:\n",
    "\n",
    "- ```kernel = 2```\n",
    "- ```padding = 0```\n",
    "- ```stride = 2```\n",
    "- ```dilation = 1```\n",
    "\n",
    "Given this parameters, the new matrix dimension after the Max Pool activation are:\n",
    "\n",
    "```O = (I - k)/s + 1```\n",
    "\n",
    "```O = (I - 2)/2 + 1```\n",
    "\n",
    "```O = I/2```\n",
    "\n",
    "If you're interested in determining the matrix dimension after the several filtering processes, you can also check it out in this:\n",
    "[CNN Cheatsheet CS 230](https://stanford.edu/~shervine/teaching/cs-230/cheatsheet-convolutional-neural-networks)\n",
    "### Actual project matrix dimensions\n",
    "After the previous discussion, in this particular case, the project matrix dimensions are the following\n",
    "\n",
    "- After the first convolution, the output matrices have a dimension of 28x28 px.\n",
    "- The dimension of the matrices after the Max Pool activation are 14x14 px.\n",
    "- The resultant matrices after the second convolution, with the same kernel and padding as the fist one, are 14x14 px.\n",
    "- Finally after the last Max Pool activation, the resultant matrices have a dimension of 7x7 px.\n",
    "\n",
    "We'll use the last Max Pool activation output matrix to dimension the amount of inputs of the fully connected layer.\n",
    "\n",
    "The following class shows a ```forward``` method, where we define how the operations will be organized inside the model. This is, here is where we describe the architecture type we would like to create. PyTorch offers an alternative way to this called the ```Sequential``` mode. You can learn more [here](https://pytorch.org/docs/stable/generated/torch.nn.Sequential.html). As you may notice, the first transformation is a convolution, followed by a Relu activation and later a MaxPool Activation/Transformation. As mentioned before, the result tends to be a feature extraction process, in order to preserve predictors and process less information by the last neuron's layer."
   ]
  },
  {
   "cell_type": "code",
   "execution_count": 6,
   "metadata": {},
   "outputs": [],
   "source": [
    "class CNN(nn.Module):\n",
    "    \n",
    "    # Contructor\n",
    "    def __init__(self, out_1=16, out_2=32, out_mp2=7*7):\n",
    "        super(CNN, self).__init__()\n",
    "        self.cnn1 = nn.Conv2d(in_channels=1, out_channels=out_1, kernel_size=5, padding=2)\n",
    "        self.maxpool1=nn.MaxPool2d(kernel_size=2)\n",
    "\n",
    "        self.cnn2 = nn.Conv2d(in_channels=out_1, out_channels=out_2, kernel_size=5, stride=1, padding=2)\n",
    "        self.maxpool2=nn.MaxPool2d(kernel_size=2)\n",
    "        self.fc1 = nn.Linear(out_2 * out_mp2, 10)\n",
    "    \n",
    "    # Prediction\n",
    "    def forward(self, x):\n",
    "        x = self.cnn1(x)\n",
    "        x = torch.relu(x)\n",
    "        x = self.maxpool1(x)\n",
    "        x = self.cnn2(x)\n",
    "        x = torch.relu(x)\n",
    "        x = self.maxpool2(x)\n",
    "        # Flatten the matrices\n",
    "        x = x.view(x.size(0), -1)\n",
    "        x = self.fc1(x)\n",
    "        return x"
   ]
  },
  {
   "cell_type": "code",
   "execution_count": 7,
   "metadata": {},
   "outputs": [],
   "source": [
    "# out_1: amount of output channels of the first convolution\n",
    "# out_2:                                  second\n",
    "# out_mp2: matrix dimension after the second max pool activation\n",
    "model = CNN(out_1=16, out_2=32, out_mp2=7*7)"
   ]
  },
  {
   "cell_type": "markdown",
   "metadata": {},
   "source": [
    "## Determining Optimizer and Data Loader\n",
    "After modelling our Neural Network, we have to determine the loss function and optimizations parameters. For so, we'll select a Cross Entropy strategy as the loss function. This kind of strategy for loss determination is what we typically choose with non-binary categorical variables. There's a great article to learn more about it [here](https://towardsdatascience.com/cross-entropy-loss-function-f38c4ec8643e). To determine the minimum loss we'll use a Stochastic Gradient Descent strategy, which is almost plain vainilla style in those cases where our data doesn't fit in memory, so the gradient is determined with batches and several steps. For this purpose, we'll create the ```train_loader``` and ```validation_loader``` iterators."
   ]
  },
  {
   "cell_type": "code",
   "execution_count": 8,
   "metadata": {},
   "outputs": [],
   "source": [
    "criterion = nn.CrossEntropyLoss()\n",
    "learning_rate = 0.1\n",
    "optimizer = torch.optim.SGD(model.parameters(), lr = learning_rate)\n",
    "train_loader = torch.utils.data.DataLoader(dataset=train_dataset, batch_size=100)\n",
    "validation_loader = torch.utils.data.DataLoader(dataset=validation_dataset, batch_size=5000)"
   ]
  },
  {
   "cell_type": "markdown",
   "metadata": {},
   "source": [
    "## Training the Model\n",
    "\n",
    "We're gonna run some training iterations (epochs) through the data, this will be done in several batches. Then we're gonna check the accuracy of the model with the validation data, finally we'll repeat the process. Important to see that ```optimizer.step()``` adjusts the model weights for the next iteration, this is to minimize the error with the true function ```y```.\n",
    "\n",
    "Finally we'll append the cost and accuracy value for each epoch and plot the final results. Probably, we'll see how the cost descends and accuracy increases as the model adjusts the weights and \"learns\" from the training data."
   ]
  },
  {
   "cell_type": "code",
   "execution_count": 9,
   "metadata": {},
   "outputs": [],
   "source": [
    "# Train the model\n",
    "\n",
    "n_epochs=6\n",
    "cost_list=[]\n",
    "accuracy_list=[]\n",
    "N_test=len(validation_dataset)\n",
    "COST=0\n",
    "\n",
    "def train_model(n_epochs):\n",
    "    for epoch in range(n_epochs):\n",
    "        COST=0\n",
    "        for x, y in train_loader:\n",
    "            optimizer.zero_grad()\n",
    "            z = model(x)\n",
    "            loss = criterion(z, y)\n",
    "            loss.backward()\n",
    "            optimizer.step()\n",
    "            COST+=loss.data\n",
    "        \n",
    "        cost_list.append(COST)\n",
    "        correct=0\n",
    "        #perform a prediction on the validation  data  \n",
    "        for x_test, y_test in validation_loader:\n",
    "            z = model(x_test)\n",
    "            _, yhat = torch.max(z.data, 1)\n",
    "            correct += (yhat == y_test).sum().item()\n",
    "        accuracy = correct / N_test\n",
    "        accuracy_list.append(accuracy)\n",
    "     \n",
    "\n",
    "train_model(n_epochs)"
   ]
  },
  {
   "cell_type": "markdown",
   "metadata": {},
   "source": [
    "## Analyzing the Results\n",
    "\n",
    "Below you'll find the plots with the cost and accuracy for the model. As expected, the cost decrease and the accuracy increases while the model fine-tunes the kernel and linear layer weights. In other words, the model \"learns\" from the iterations."
   ]
  },
  {
   "cell_type": "code",
   "execution_count": 10,
   "metadata": {},
   "outputs": [
    {
     "data": {
      "image/png": "[encoded data removed]",
      "text/plain": [
       "<Figure size 432x288 with 2 Axes>"
      ]
     },
     "metadata": {
      "needs_background": "light"
     },
     "output_type": "display_data"
    }
   ],
   "source": [
    "fig, ax1 = plt.subplots()\n",
    "color = 'tab:red'\n",
    "ax1.plot(cost_list, color=color)\n",
    "ax1.set_xlabel('epoch', color=color)\n",
    "ax1.set_ylabel('Cost', color=color)\n",
    "ax1.tick_params(axis='y', color=color)\n",
    "    \n",
    "ax2 = ax1.twinx()  \n",
    "color = 'tab:blue'\n",
    "ax2.set_ylabel('accuracy', color=color) \n",
    "ax2.set_xlabel('epoch', color=color)\n",
    "ax2.plot( accuracy_list, color=color)\n",
    "ax2.tick_params(axis='y', color=color)\n",
    "fig.tight_layout()"
   ]
  },
  {
   "cell_type": "markdown",
   "metadata": {},
   "source": [
    "## Checking Classifications\n",
    "\n",
    "Here's an image depicting the different categories in the Fashion MNIST dataset.\n",
    "\n",
    "<img src=\"img/fashion_mnist_classes.png\" alt=\"Fashion MNIST categories\" width=\"800\"/>\n",
    "\n",
    "Finally, we'll check some samples where the model didn't classify the categories correctly. As you may see, sometimes it's not easy to distinguish between a sandal or a sneaker with such a low resolution picture, even for the human eye. Notice also the first image, where the model predicted a bag but it was an ankle boot. It kind of looks like a bag isn't it?. The model also have hard times discriminating pullovers from coats, but with that image, honestly it's hard to tell.\n",
    "\n"
   ]
  },
  {
   "cell_type": "code",
   "execution_count": 11,
   "metadata": {},
   "outputs": [
    {
     "data": {
      "image/png": "[encoded data removed]",
      "text/plain": [
       "<Figure size 432x288 with 1 Axes>"
      ]
     },
     "metadata": {
      "needs_background": "light"
     },
     "output_type": "display_data"
    },
    {
     "name": "stdout",
     "output_type": "stream",
     "text": [
      "yhat:  tensor([5])\n"
     ]
    },
    {
     "data": {
      "image/png": "[encoded data removed]",
      "text/plain": [
       "<Figure size 432x288 with 1 Axes>"
      ]
     },
     "metadata": {
      "needs_background": "light"
     },
     "output_type": "display_data"
    },
    {
     "name": "stdout",
     "output_type": "stream",
     "text": [
      "yhat:  tensor([2])\n"
     ]
    },
    {
     "data": {
      "image/png": "[encoded data removed]",
      "text/plain": [
       "<Figure size 432x288 with 1 Axes>"
      ]
     },
     "metadata": {
      "needs_background": "light"
     },
     "output_type": "display_data"
    },
    {
     "name": "stdout",
     "output_type": "stream",
     "text": [
      "yhat:  tensor([7])\n"
     ]
    },
    {
     "data": {
      "image/png": "[encoded data removed]",
      "text/plain": [
       "<Figure size 432x288 with 1 Axes>"
      ]
     },
     "metadata": {
      "needs_background": "light"
     },
     "output_type": "display_data"
    },
    {
     "name": "stdout",
     "output_type": "stream",
     "text": [
      "yhat:  tensor([5])\n"
     ]
    },
    {
     "data": {
      "image/png": "[encoded data removed]",
      "text/plain": [
       "<Figure size 432x288 with 1 Axes>"
      ]
     },
     "metadata": {
      "needs_background": "light"
     },
     "output_type": "display_data"
    },
    {
     "name": "stdout",
     "output_type": "stream",
     "text": [
      "yhat:  tensor([2])\n"
     ]
    }
   ],
   "source": [
    "count = 0\n",
    "for x, y in torch.utils.data.DataLoader(dataset=validation_dataset, batch_size=1):\n",
    "    z = model(x)\n",
    "    _, yhat = torch.max(z, 1)\n",
    "    if yhat != y:\n",
    "        show_data((x, y))\n",
    "        plt.show()\n",
    "        print(\"yhat: \",yhat)\n",
    "        count += 1\n",
    "        if count >= 5:\n",
    "            break  "
   ]
  },
  {
   "cell_type": "markdown",
   "metadata": {},
   "source": [
    "## Wrapping it up\n",
    "\n",
    "A 2 layer CNN does an excellent work in predicting images from the Fashion MNIST dataset with an overall accuracy after 6 training epochs of almost a 90%. This is not a surprise since this kind of neural network architecture achieve great results.\n",
    "\n",
    "Certainly, the accuracy can increase reducing the convolution kernel size in order to loose less data per iteration, at the expense of higher training times. Also, normalization can be implemented after each convolution and in the final fully connected layer. This helps achive a larger accuracy in fewer epochs. You can try experimenting with it and leave some comments with the results. There's a good article to learn more about [batch normalization](https://towardsdatascience.com/batch-normalization-and-dropout-in-neural-networks-explained-with-pytorch-47d7a8459bcd) you can dig in."
   ]
  },
  {
   "cell_type": "code",
   "execution_count": null,
   "metadata": {},
   "outputs": [],
   "source": []
  }
 ],
 "metadata": {
  "kernelspec": {
   "display_name": "Python 3",
   "language": "python",
   "name": "python3"
  },
  "language_info": {
   "codemirror_mode": {
    "name": "ipython",
    "version": 3
   },
   "file_extension": ".py",
   "mimetype": "text/x-python",
   "name": "python",
   "nbconvert_exporter": "python",
   "pygments_lexer": "ipython3",
   "version": "3.9.5"
  }
 },
 "nbformat": 4,
 "nbformat_minor": 4
}
